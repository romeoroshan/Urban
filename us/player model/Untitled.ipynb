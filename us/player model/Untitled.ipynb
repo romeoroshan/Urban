{
 "cells": [
  {
   "cell_type": "code",
   "execution_count": 1,
   "id": "001c5cb7-495d-4c6c-aadb-4b8d4c0aa9fa",
   "metadata": {},
   "outputs": [
    {
     "name": "stdout",
     "output_type": "stream",
     "text": [
      "Ability RMSE: 0.12234081238066641\n",
      "Potential RMSE: 0.44294747854659783\n",
      "Ability R-squared: 0.9417332384468655\n",
      "Potential R-squared: 0.7783022951968489\n"
     ]
    },
    {
     "data": {
      "text/plain": [
       "['ability_model.joblib']"
      ]
     },
     "execution_count": 1,
     "metadata": {},
     "output_type": "execute_result"
    }
   ],
   "source": [
    "import pandas as pd\n",
    "from sklearn.model_selection import train_test_split\n",
    "from sklearn.linear_model import LinearRegression\n",
    "from sklearn.metrics import mean_squared_error, r2_score\n",
    "\n",
    "# Load the dataset\n",
    "data = {\n",
    "    'Age': [21, 25, 18, 28, 20, 22, 24, 30, 29, 32, 23, 27, 31, 26, 33, 34, 19, 35, 29, 36],\n",
    "    'Pace': [80, 75, 90, 70, 85, 78, 82, 65, 68, 70, 88, 72, 70, 74, 69, 67, 92, 62, 66, 61],\n",
    "    'Shooting': [85, 70, 75, 60, 80, 72, 76, 62, 65, 58, 88, 78, 70, 76, 72, 70, 65, 70, 64, 59],\n",
    "    'Passing': [75, 80, 85, 70, 78, 80, 72, 68, 70, 60, 70, 75, 80, 72, 68, 65, 75, 68, 71, 66],\n",
    "    'Dribbling': [88, 78, 92, 70, 84, 82, 85, 72, 75, 68, 90, 75, 72, 86, 80, 78, 92, 68, 73, 67],\n",
    "    'Defending': [60, 75, 70, 80, 65, 68, 70, 75, 78, 80, 55, 70, 75, 68, 70, 78, 45, 72, 77, 73],\n",
    "    'Physical': [75, 85, 88, 82, 90, 86, 84, 78, 80, 75, 70, 82, 85, 80, 76, 74, 88, 81, 79, 77],\n",
    "    'Ability': [4.2, 3.8, 4.5, 3.5, 4.0, 4.0, 4.1, 3.3, 3.2, 3.0, 4.4, 3.6, 3.1, 3.8, 3.5, 3.2, 4.6, 2.9, 2.7, 2.5],\n",
    "    'Potential': [4.8, 4.5, 4.9, 3.3, 4.7, 4.6, 4.5, 3.0, 3.1, 2.8, 4.9, 4.0, 3.2, 4.3, 3.7, 3.5, 4.0, 2.4, 2.2, 2.0],\n",
    "}\n",
    "\n",
    "df = pd.DataFrame(data)\n",
    "\n",
    "# Define features (X) and target variables (y)\n",
    "X = df[['Age', 'Pace', 'Shooting', 'Passing', 'Dribbling', 'Defending', 'Physical']]\n",
    "y_ability = df['Ability']\n",
    "y_potential = df['Potential']\n",
    "\n",
    "# Split the dataset into training and testing sets\n",
    "X_train, X_test, y_ability_train, y_ability_test, y_potential_train, y_potential_test = train_test_split(\n",
    "    X, y_ability, y_potential, test_size=0.2, random_state=42\n",
    ")\n",
    "\n",
    "# Create and train the models\n",
    "ability_model = LinearRegression()\n",
    "ability_model.fit(X_train, y_ability_train)\n",
    "\n",
    "potential_model = LinearRegression()\n",
    "potential_model.fit(X_train, y_potential_train)\n",
    "\n",
    "# Make predictions\n",
    "ability_predictions = ability_model.predict(X_test)\n",
    "potential_predictions = potential_model.predict(X_test)\n",
    "\n",
    "# Evaluate the models\n",
    "ability_rmse = mean_squared_error(y_ability_test, ability_predictions, squared=False)\n",
    "potential_rmse = mean_squared_error(y_potential_test, potential_predictions, squared=False)\n",
    "\n",
    "ability_r2 = r2_score(y_ability_test, ability_predictions)\n",
    "potential_r2 = r2_score(y_potential_test, potential_predictions)\n",
    "\n",
    "print(\"Ability RMSE:\", ability_rmse)\n",
    "print(\"Potential RMSE:\", potential_rmse)\n",
    "print(\"Ability R-squared:\", ability_r2)\n",
    "print(\"Potential R-squared:\", potential_r2)\n",
    "\n",
    "from joblib import dump\n",
    "dump(ability_model,'ability_model.joblib')"
   ]
  },
  {
   "cell_type": "code",
   "execution_count": null,
   "id": "a68a3736-8d5f-4d5f-9013-6ef9f6d4c444",
   "metadata": {},
   "outputs": [],
   "source": []
  }
 ],
 "metadata": {
  "kernelspec": {
   "display_name": "Python 3 (ipykernel)",
   "language": "python",
   "name": "python3"
  },
  "language_info": {
   "codemirror_mode": {
    "name": "ipython",
    "version": 3
   },
   "file_extension": ".py",
   "mimetype": "text/x-python",
   "name": "python",
   "nbconvert_exporter": "python",
   "pygments_lexer": "ipython3",
   "version": "3.11.3"
  }
 },
 "nbformat": 4,
 "nbformat_minor": 5
}
